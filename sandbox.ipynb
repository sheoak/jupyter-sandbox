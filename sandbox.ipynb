{
 "cells": [
  {
   "cell_type": "markdown",
   "metadata": {},
   "source": [
    "# Python pour les nuls\n",
    "\n",
    "Quelques exemples basiques en python."
   ]
  },
  {
   "cell_type": "markdown",
   "metadata": {},
   "source": [
    "## Les dictionnaires et les listes en python\n",
    "\n",
    "Les dictionnaires permettent de stocker des données de façon organisée. En tant que débutant en programmation tu seras peut⁻être tenté d'écrire le code suivant :"
   ]
  },
  {
   "cell_type": "code",
   "execution_count": 2,
   "metadata": {},
   "outputs": [],
   "source": [
    "player1 = 'Daddy'\n",
    "player2 = 'Harry'\n",
    "score1 = 12\n",
    "score2 = 23"
   ]
  },
  {
   "cell_type": "markdown",
   "metadata": {},
   "source": [
    "Si ce code fonctionne il va rapidement devenir un problème si on ajoute des joueurs. De plus la lecture n'est pas forcément évidente, car on associe pas à première vue le joueur à son score. Voici un exemple avec un dictionnaire:"
   ]
  },
  {
   "cell_type": "code",
   "execution_count": 4,
   "metadata": {},
   "outputs": [
    {
     "name": "stdout",
     "output_type": "stream",
     "text": [
      "{'name': 'Daddy', 'score': 12}\n"
     ]
    }
   ],
   "source": [
    "player = {\n",
    "    'name': 'Daddy',\n",
    "    'score': 12\n",
    "}\n",
    "print(player)"
   ]
  },
  {
   "cell_type": "markdown",
   "metadata": {},
   "source": [
    "Les valeurs peuvent être de différents types, mais pour l'instant restons sur cet exemple simple.\n",
    "\n",
    "Le score et le nom sont maintenant associés, mais il nous faut maintenant stocker les deux joueurs. Plutôt que de créer deux variables nous allons utiliser une liste. Voici des exemples de listes simples :"
   ]
  },
  {
   "cell_type": "code",
   "execution_count": 10,
   "metadata": {},
   "outputs": [
    {
     "name": "stdout",
     "output_type": "stream",
     "text": [
      "[1, 2, 3]\n",
      "['Joe', 'Jack', 'William']\n",
      "[1, 'Harry', 1.5]\n",
      "[{'name': 'Joe'}, {'name': 'Jack'}]\n"
     ]
    }
   ],
   "source": [
    "a = [1, 2, 3]\n",
    "print(a)\n",
    "\n",
    "b = ['Joe', 'Jack', 'William']\n",
    "print(b)\n",
    "\n",
    "mix = [1, 'Harry', 1.5]\n",
    "print(mix)\n",
    "\n",
    "dictionnaire = [\n",
    "    {'name' : 'Joe'},\n",
    "    {'name': 'Jack'}\n",
    "]\n",
    "print(dictionnaire)"
   ]
  },
  {
   "cell_type": "markdown",
   "metadata": {},
   "source": [
    "Maintenant que l'on sait créer une liste on peut y ranger nos dictionnaires contenant les infos sur les joueurs en en créant une nouvelle :"
   ]
  },
  {
   "cell_type": "code",
   "execution_count": 1,
   "metadata": {},
   "outputs": [
    {
     "name": "stdout",
     "output_type": "stream",
     "text": [
      "[{'name': 'Daddy', 'score': 12}, {'name': 'Harry', 'score': 10000}]\n"
     ]
    }
   ],
   "source": [
    "allplayers = [\n",
    "    {\n",
    "        'name': 'Daddy',\n",
    "        'score': 12\n",
    "    },\n",
    "    {\n",
    "        'name': 'Harry',\n",
    "        'score': 10000\n",
    "    }\n",
    "]\n",
    "\n",
    "print(allplayers)"
   ]
  },
  {
   "cell_type": "markdown",
   "metadata": {},
   "source": [
    "On aurait aussi pu écrire :"
   ]
  },
  {
   "cell_type": "code",
   "execution_count": 6,
   "metadata": {},
   "outputs": [
    {
     "name": "stdout",
     "output_type": "stream",
     "text": [
      "[{'name': 'Daddy', 'score': 12}, {'name': 'Harry', 'score': 10000}]\n"
     ]
    }
   ],
   "source": [
    "# création d'une liste vide\n",
    "allplayers = []\n",
    "\n",
    "# creation d'un nouveau dictionnaire\n",
    "player = {\n",
    "        'name': 'Daddy',\n",
    "        'score': 12\n",
    "}\n",
    "# ajout du dictionnaire à la liste grace à la méthode \"append()\"\n",
    "allplayers.append(player)\n",
    "\n",
    "# idem pour le second joueur\n",
    "player = {\n",
    "        'name': 'Harry',\n",
    "        'score': 10000\n",
    "}\n",
    "allplayers.append(player)\n",
    "\n",
    "print(allplayers)\n"
   ]
  },
  {
   "cell_type": "code",
   "execution_count": null,
   "metadata": {},
   "outputs": [],
   "source": []
  }
 ],
 "metadata": {
  "kernelspec": {
   "display_name": "Python 3",
   "language": "python",
   "name": "python3"
  },
  "language_info": {
   "codemirror_mode": {
    "name": "ipython",
    "version": 3
   },
   "file_extension": ".py",
   "mimetype": "text/x-python",
   "name": "python",
   "nbconvert_exporter": "python",
   "pygments_lexer": "ipython3",
   "version": "3.7.3"
  }
 },
 "nbformat": 4,
 "nbformat_minor": 2
}
